{
 "cells": [
  {
   "cell_type": "code",
   "execution_count": 7,
   "id": "d2e75dea",
   "metadata": {},
   "outputs": [],
   "source": [
    "import matplotlib.pyplot as plt\n",
    "import matplotlib.transforms\n",
    "import matplotlib.path\n",
    "import numpy as np\n",
    "from matplotlib import gridspec\n",
    "from matplotlib.collections import LineCollection\n",
    "\n",
    "def rainbowarrow(ax, start, end, cmap=\"viridis\", n=50,lw=3):\n",
    "    cmap = plt.get_cmap(cmap,n)\n",
    "    # Arrow shaft: LineCollection\n",
    "    x = np.linspace(start[0],end[0],n)\n",
    "    y = np.linspace(start[1],end[1],n)\n",
    "    points = np.array([x,y]).T.reshape(-1,1,2)\n",
    "    segments = np.concatenate([points[:-1],points[1:]], axis=1)\n",
    "    lc = LineCollection(segments, cmap=cmap, linewidth=lw)\n",
    "    lc.set_array(np.linspace(0,1,n))\n",
    "    \n",
    "    ax.add_collection(lc)\n",
    "    # Arrow head: Triangle\n",
    "    tricoords = [(0,-0.4),(0.5,0),(0,0.4),(0,-0.4)]\n",
    "    angle = np.arctan2(end[1]-start[1],end[0]-start[0])\n",
    "    rot = matplotlib.transforms.Affine2D().rotate(angle)\n",
    "    tricoords2 = rot.transform(tricoords)\n",
    "    tri = matplotlib.path.Path(tricoords2, closed=True)\n",
    "    ax.scatter(end[0],end[1], c=1, s=(2*lw)**2, marker=tri, cmap=cmap,vmin=0)\n",
    "    #ax.autoscale_view()"
   ]
  },
  {
   "cell_type": "code",
   "execution_count": 12,
   "id": "914ff917",
   "metadata": {},
   "outputs": [
    {
     "data": {
      "image/png": "[encoded data removed]",
      "text/plain": [
       "<Figure size 540x252 with 2 Axes>"
      ]
     },
     "metadata": {
      "needs_background": "light"
     },
     "output_type": "display_data"
    }
   ],
   "source": [
    "\n",
    "plt.rcParams[\"figure.figsize\"] = [7.50, 3.50]\n",
    "#plt.rcParams[\"figure.autolayout\"] = True\n",
    "\n",
    "#fig,axs = plt.subplots(1,2,figsize=(16,9), gridspec_kw={'width_ratios': [1, 10]})\n",
    "\n",
    "fig = plt.figure()\n",
    "# fig.clf()\n",
    "\n",
    "spec = gridspec.GridSpec(ncols=2, nrows=1,\n",
    "                         width_ratios=[1, 10], wspace=0.2)\n",
    "\n",
    "ax0 = fig.add_subplot(spec[0])\n",
    "ax0.text(1.5, 0.5, 'BEST', transform=ax0.transAxes, size=24, ha='right')\n",
    "# ax0.plot(x, y)\n",
    "\n",
    "# ax0 = fig.add_subplot(1, 2, 1)#, gridspec_kw={'height_ratios': [1, 2]})\n",
    "rainbowarrow(ax0, (0,0), (0,1), cmap=\"RdYlGn\", n=1000,lw=5)\n",
    "#fig.subplots_adjust(bottom=0.2, top=0.9)\n",
    "#ax.annotate('ciao', xy=(0, -0.15), xycoords='axes fraction', xytext=(1.05, -0.15),arrowprops = dict(arrowstyle=\"<-\", color=colorFader(c1,c2,x/n),linewidth=4))\n",
    "#ax.annotate('Negative', xy=(1.05, -0.2), xycoords='axes fraction', xytext=(-0.15, -0.23),arrowprops=dict(arrowstyle=\"<-\", color='r',linewidth=2))\n",
    "#rainbowarrow(ax, (0,1), (1,1), cmap=\"jet\", n=23,lw=5)\n",
    "ax1 = fig.add_subplot(spec[1])\n",
    "\n",
    "ax0.axis('off')\n",
    "plt.show()"
   ]
  },
  {
   "cell_type": "code",
   "execution_count": 9,
   "id": "fb792dea",
   "metadata": {},
   "outputs": [
    {
     "data": {
      "image/png": "[encoded data removed]",
      "text/plain": [
       "<Figure size 540x252 with 2 Axes>"
      ]
     },
     "metadata": {
      "needs_background": "light"
     },
     "output_type": "display_data"
    }
   ],
   "source": [
    "plt.rcParams[\"figure.figsize\"] = [7.50, 3.50]\n",
    "#plt.rcParams[\"figure.autolayout\"] = True\n",
    "\n",
    "fig = plt.figure(1)\n",
    "fig.clf()\n",
    "\n",
    "ax = fig.add_subplot(2, 1, 1)\n",
    "#fig.subplots_adjust(bottom=0.2, top=0.9)\n",
    "#ax.annotate('ciao', xy=(0, -0.15), xycoords='axes fraction', xytext=(1.05, -0.15),arrowprops = dict(arrowstyle=\"<-\", color=colorFader(c1,c2,x/n),linewidth=4))\n",
    "#ax.annotate('Negative', xy=(1.05, -0.2), xycoords='axes fraction', xytext=(-0.15, -0.23),arrowprops=dict(arrowstyle=\"<-\", color='r',linewidth=2))\n",
    "rainbowarrow(ax, (0,1), (1,1), cmap=\"jet\", n=23,lw=5)\n",
    "ax2 = fig.add_subplot(2, 1, 2)\n",
    "rainbowarrow(ax2, (0,1), (1,1), cmap=\"RdYlGn\", n=1000,lw=5)\n",
    "ax2.axis('off')\n",
    "plt.show()"
   ]
  },
  {
   "cell_type": "code",
   "execution_count": 10,
   "id": "f71eab95",
   "metadata": {},
   "outputs": [
    {
     "data": {
      "image/png": "[encoded data removed]",
      "text/plain": [
       "<Figure size 540x252 with 2 Axes>"
      ]
     },
     "metadata": {
      "needs_background": "light"
     },
     "output_type": "display_data"
    }
   ],
   "source": [
    "from matplotlib import gridspec\n",
    "plt.rcParams[\"figure.figsize\"] = [7.50, 3.50]\n",
    "#plt.rcParams[\"figure.autolayout\"] = True\n",
    "\n",
    "#fig,axs = plt.subplots(1,2,figsize=(16,9), gridspec_kw={'width_ratios': [1, 10]})\n",
    "\n",
    "fig = plt.figure(1)\n",
    "fig.clf()\n",
    "\n",
    "spec = gridspec.GridSpec(ncols=2, nrows=1,\n",
    "                         width_ratios=[1, 10], wspace=0.2)\n",
    "\n",
    "ax0 = fig.add_subplot(spec[0])\n",
    "# ax0.plot(x, y)\n",
    "\n",
    "# ax0 = fig.add_subplot(1, 2, 1)#, gridspec_kw={'height_ratios': [1, 2]})\n",
    "rainbowarrow(ax0, (0,0), (0,1), cmap=\"RdYlGn\", n=1000,lw=5)\n",
    "#fig.subplots_adjust(bottom=0.2, top=0.9)\n",
    "#ax.annotate('ciao', xy=(0, -0.15), xycoords='axes fraction', xytext=(1.05, -0.15),arrowprops = dict(arrowstyle=\"<-\", color=colorFader(c1,c2,x/n),linewidth=4))\n",
    "#ax.annotate('Negative', xy=(1.05, -0.2), xycoords='axes fraction', xytext=(-0.15, -0.23),arrowprops=dict(arrowstyle=\"<-\", color='r',linewidth=2))\n",
    "#rainbowarrow(ax, (0,1), (1,1), cmap=\"jet\", n=23,lw=5)\n",
    "ax1 = fig.add_subplot(spec[1])\n",
    "\n",
    "ax0.axis('off')\n",
    "plt.show()"
   ]
  },
  {
   "cell_type": "code",
   "execution_count": null,
   "id": "3d78e8ad",
   "metadata": {},
   "outputs": [],
   "source": []
  },
  {
   "cell_type": "code",
   "execution_count": null,
   "id": "e2048691",
   "metadata": {},
   "outputs": [],
   "source": []
  },
  {
   "cell_type": "code",
   "execution_count": null,
   "id": "ced9a622",
   "metadata": {},
   "outputs": [],
   "source": []
  },
  {
   "cell_type": "code",
   "execution_count": null,
   "id": "1d3c2c11",
   "metadata": {},
   "outputs": [],
   "source": []
  },
  {
   "cell_type": "code",
   "execution_count": null,
   "id": "057f4150",
   "metadata": {},
   "outputs": [],
   "source": []
  },
  {
   "cell_type": "code",
   "execution_count": null,
   "id": "a5a426f8",
   "metadata": {},
   "outputs": [],
   "source": [
    "import matplotlib.pyplot as plt\n",
    "\n",
    "\n",
    "# original example\n",
    "plt.rcParams[\"figure.figsize\"] = [7.50, 3.50]\n",
    "plt.rcParams[\"figure.autolayout\"] = True\n",
    "\n",
    "fig = plt.figure(1)\n",
    "fig.clf()\n",
    "\n",
    "ax = fig.add_subplot(1, 1, 1)\n",
    "ax.annotate('', xy=(0, -0.1), xycoords='axes fraction', xytext=(1, -0.1),\n",
    "arrowprops=dict(arrowstyle=\"<->\", color='b'))\n",
    "plt.show()"
   ]
  },
  {
   "cell_type": "code",
   "execution_count": null,
   "id": "4643eeaa",
   "metadata": {},
   "outputs": [],
   "source": [
    "# two direction\n",
    "plt.rcParams[\"figure.figsize\"] = [7.50, 3.50]\n",
    "plt.rcParams[\"figure.autolayout\"] = True\n",
    "\n",
    "fig = plt.figure(1)\n",
    "fig.clf()\n",
    "\n",
    "ax = fig.add_subplot(1, 1, 1)\n",
    "ax.annotate('Positive', xy=(0, -0.15), xycoords='axes fraction', xytext=(1.05, -0.15),arrowprops = dict(arrowstyle=\"<-\", color='b'))\n",
    "ax.annotate('Negative', xy=(1.05, -0.2), xycoords='axes fraction', xytext=(-0.15, -0.23),arrowprops=dict(arrowstyle=\"<-\", color='r'))\n",
    "\n",
    "plt.show()"
   ]
  },
  {
   "cell_type": "code",
   "execution_count": null,
   "id": "acd29459",
   "metadata": {},
   "outputs": [],
   "source": [
    "# two direction\n",
    "plt.rcParams[\"figure.figsize\"] = [7.50, 3.50]\n",
    "plt.rcParams[\"figure.autolayout\"] = True\n",
    "\n",
    "fig = plt.figure(1)\n",
    "fig.clf()\n",
    "\n",
    "ax = fig.add_subplot(1, 1, 1)\n",
    "ax.annotate('Positive', xy=(0, -0.15), xycoords='axes fraction', xytext=(1.05, -0.15),arrowprops = dict(arrowstyle=\"<-\", color='b',linewidth=4))\n",
    "ax.annotate('Negative', xy=(1.05, -0.2), xycoords='axes fraction', xytext=(-0.15, -0.23),arrowprops=dict(arrowstyle=\"<-\", color='r',linewidth=2))\n",
    "\n",
    "plt.show()"
   ]
  },
  {
   "cell_type": "code",
   "execution_count": null,
   "id": "730eadf1",
   "metadata": {},
   "outputs": [],
   "source": [
    "import matplotlib as mpl\n",
    "import matplotlib.pyplot as plt\n",
    "import numpy as np\n",
    "\n",
    "def colorFader(c1,c2,mix=0): #fade (linear interpolate) from color c1 (at mix=0) to c2 (mix=1)\n",
    "    c1=np.array(mpl.colors.to_rgb(c1))\n",
    "    c2=np.array(mpl.colors.to_rgb(c2))\n",
    "    return mpl.colors.to_hex((1-mix)*c1 + mix*c2)\n",
    "\n",
    "c1='red' #blue\n",
    "c2='#5aac44' #green\n",
    "n=500\n",
    "\n",
    "fig, ax = plt.subplots(figsize=(8, 5))\n",
    "for x in range(n+1):\n",
    "    ax.axvline(x, color=colorFader(c1,c2,x/n), linewidth=4) \n",
    "plt.show()"
   ]
  },
  {
   "cell_type": "code",
   "execution_count": null,
   "id": "57500d43",
   "metadata": {},
   "outputs": [],
   "source": [
    "# two direction\n",
    "plt.rcParams[\"figure.figsize\"] = [7.50, 3.50]\n",
    "plt.rcParams[\"figure.autolayout\"] = True\n",
    "\n",
    "fig = plt.figure(1)\n",
    "fig.clf()\n",
    "\n",
    "ax = fig.add_subplot(1, 1, 1)\n",
    "ax.annotate('ciao', xy=(0, -0.15), xycoords='axes fraction', xytext=(1.05, -0.15),arrowprops = dict(arrowstyle=\"<-\", color=colorFader(c1,c2,x/n),linewidth=4))\n",
    "#ax.annotate('Negative', xy=(1.05, -0.2), xycoords='axes fraction', xytext=(-0.15, -0.23),arrowprops=dict(arrowstyle=\"<-\", color='r',linewidth=2))\n",
    "\n",
    "plt.show()"
   ]
  },
  {
   "cell_type": "code",
   "execution_count": null,
   "id": "b381e827",
   "metadata": {},
   "outputs": [],
   "source": [
    "#only line collection\n",
    "\n",
    "def colors_range(start, end, cmap=\"viridis\", n=50,lw=3):\n",
    "    \n",
    "    cmap = plt.get_cmap(cmap,n)\n",
    "    # Arrow shaft: LineCollection\n",
    "    x = np.linspace(start[0],end[0],n)\n",
    "    y = np.linspace(start[1],end[1],n)\n",
    "    points = np.array([x,y]).T.reshape(-1,1,2)\n",
    "    segments = np.concatenate([points[:-1],points[1:]], axis=1)\n",
    "    lc = LineCollection(segments, cmap=cmap, linewidth=lw)\n",
    "    lc.set_array(np.linspace(0,1,n))\n",
    "    return lc"
   ]
  },
  {
   "cell_type": "code",
   "execution_count": null,
   "id": "0f45a8ba",
   "metadata": {},
   "outputs": [],
   "source": [
    "# solution add subplot with rainbow arrow and no axis around"
   ]
  },
  {
   "cell_type": "code",
   "execution_count": null,
   "id": "d82060a2",
   "metadata": {},
   "outputs": [],
   "source": []
  }
 ],
 "metadata": {
  "kernelspec": {
   "display_name": "PyCharm (tract)",
   "language": "python",
   "name": "pycharm-d725f8f6"
  },
  "language_info": {
   "codemirror_mode": {
    "name": "ipython",
    "version": 3
   },
   "file_extension": ".py",
   "mimetype": "text/x-python",
   "name": "python",
   "nbconvert_exporter": "python",
   "pygments_lexer": "ipython3",
   "version": "3.7.3"
  }
 },
 "nbformat": 4,
 "nbformat_minor": 5
}
