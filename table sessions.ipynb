{
 "cells": [
  {
   "cell_type": "code",
   "execution_count": 1,
   "metadata": {},
   "outputs": [],
   "source": [
    "import pandas as pd\n",
    "import os\n",
    "import numpy as np"
   ]
  },
  {
   "cell_type": "code",
   "execution_count": 2,
   "metadata": {
    "pycharm": {
     "name": "#%%\n"
    }
   },
   "outputs": [],
   "source": [
    "project_path = '/media/brainstimmaps/DATA/20xx_Projects/2025_DBSinDepression/03_Data'"
   ]
  },
  {
   "cell_type": "code",
   "execution_count": 3,
   "metadata": {},
   "outputs": [],
   "source": [
    "patients_dir = sorted([el for el in os.listdir(project_path) if el.startswith('Patient')])"
   ]
  },
  {
   "cell_type": "code",
   "execution_count": 4,
   "metadata": {},
   "outputs": [],
   "source": [
    "till_csv = 'VTA_tracts/plot/outcomes/Depression_scales_evolution.csv'"
   ]
  },
  {
   "cell_type": "code",
   "execution_count": 5,
   "metadata": {},
   "outputs": [],
   "source": [
    "table_dict = {}\n",
    "baseline_dict = {}"
   ]
  },
  {
   "cell_type": "code",
   "execution_count": 6,
   "metadata": {},
   "outputs": [],
   "source": [
    "for pat in patients_dir:\n",
    "\n",
    "    this_pat= {}    \n",
    "    complete_path = os.path.join(project_path,pat,till_csv)\n",
    "    df = pd.read_csv(complete_path) #already sorted in time and with values in percentage\n",
    "\n",
    "    baseline_df = df[df.date == min(df.date)][['measure','value']]\n",
    "    baseline_dict[pat] = dict(zip(baseline_df.measure,baseline_df.value ))\n",
    "    this_pat['n_sessions'] = df.date.nunique()-1 #remove preoperative baseline date\n",
    "    \n",
    "    \n",
    "    df['date'] = pd.to_datetime(df.date,format = '%Y-%m-%d')    \n",
    "    unique_dates_no_bl = np.array(df['date'].unique()[1:])    \n",
    "    time_between_assessments = np.diff(df['date'].unique()[1:]) / np.timedelta64(1,'D')\n",
    "    \n",
    "    # in days\n",
    "    this_pat['min'] = np.min(time_between_assessments)\n",
    "    this_pat['max'] = np.max(time_between_assessments)\n",
    "    this_pat['std'] = np.round(np.std(time_between_assessments),2)\n",
    "    this_pat['median'] = np.round(np.median(time_between_assessments),2)\n",
    "    \n",
    "    # in months\n",
    "    this_pat['total_coverage(m)'] = np.ceil((unique_dates_no_bl[-1] - unique_dates_no_bl[0])/ np.timedelta64(1,'D')/30)\n",
    "\n",
    "#     print('min, max, std, mean time between assessments in days')\n",
    "#     print(np.min(time_between_assessments),np.max(time_between_assessments),np.std(time_between_assessments),np.mean(time_between_assessments))\n",
    "#     print('distance in month first and last assessment')\n",
    "#     print((unique_dates_no_bl[-1] - unique_dates_no_bl[0])/ np.timedelta64(1,'D')/30)\n",
    "#     print()\n",
    "    table_dict[pat] = this_pat"
   ]
  },
  {
   "cell_type": "code",
   "execution_count": 7,
   "metadata": {},
   "outputs": [
    {
     "data": {
      "text/plain": [
       "{'Patient1': {'n_sessions': 36,\n",
       "  'min': 5.0,\n",
       "  'max': 126.0,\n",
       "  'std': 25.93,\n",
       "  'median': 9.0,\n",
       "  'total_coverage(m)': 25.0},\n",
       " 'Patient2': {'n_sessions': 2,\n",
       "  'min': 173.0,\n",
       "  'max': 173.0,\n",
       "  'std': 0.0,\n",
       "  'median': 173.0,\n",
       "  'total_coverage(m)': 6.0},\n",
       " 'Patient3': {'n_sessions': 10,\n",
       "  'min': 6.0,\n",
       "  'max': 72.0,\n",
       "  'std': 20.52,\n",
       "  'median': 23.0,\n",
       "  'total_coverage(m)': 9.0}}"
      ]
     },
     "execution_count": 7,
     "metadata": {},
     "output_type": "execute_result"
    }
   ],
   "source": [
    "table_dict"
   ]
  },
  {
   "cell_type": "code",
   "execution_count": 12,
   "metadata": {},
   "outputs": [
    {
     "data": {
      "text/html": [
       "<div>\n",
       "<style scoped>\n",
       "    .dataframe tbody tr th:only-of-type {\n",
       "        vertical-align: middle;\n",
       "    }\n",
       "\n",
       "    .dataframe tbody tr th {\n",
       "        vertical-align: top;\n",
       "    }\n",
       "\n",
       "    .dataframe thead th {\n",
       "        text-align: right;\n",
       "    }\n",
       "</style>\n",
       "<table border=\"1\" class=\"dataframe\">\n",
       "  <thead>\n",
       "    <tr style=\"text-align: right;\">\n",
       "      <th></th>\n",
       "      <th>n_sessions</th>\n",
       "      <th>min</th>\n",
       "      <th>max</th>\n",
       "      <th>std</th>\n",
       "      <th>median</th>\n",
       "      <th>total_coverage(m)</th>\n",
       "    </tr>\n",
       "  </thead>\n",
       "  <tbody>\n",
       "    <tr>\n",
       "      <th>Patient1</th>\n",
       "      <td>36.0</td>\n",
       "      <td>5.0</td>\n",
       "      <td>126.0</td>\n",
       "      <td>25.93</td>\n",
       "      <td>9.0</td>\n",
       "      <td>25.0</td>\n",
       "    </tr>\n",
       "    <tr>\n",
       "      <th>Patient2</th>\n",
       "      <td>2.0</td>\n",
       "      <td>173.0</td>\n",
       "      <td>173.0</td>\n",
       "      <td>0.00</td>\n",
       "      <td>173.0</td>\n",
       "      <td>6.0</td>\n",
       "    </tr>\n",
       "    <tr>\n",
       "      <th>Patient3</th>\n",
       "      <td>10.0</td>\n",
       "      <td>6.0</td>\n",
       "      <td>72.0</td>\n",
       "      <td>20.52</td>\n",
       "      <td>23.0</td>\n",
       "      <td>9.0</td>\n",
       "    </tr>\n",
       "  </tbody>\n",
       "</table>\n",
       "</div>"
      ],
      "text/plain": [
       "          n_sessions    min    max    std  median  total_coverage(m)\n",
       "Patient1        36.0    5.0  126.0  25.93     9.0               25.0\n",
       "Patient2         2.0  173.0  173.0   0.00   173.0                6.0\n",
       "Patient3        10.0    6.0   72.0  20.52    23.0                9.0"
      ]
     },
     "execution_count": 12,
     "metadata": {},
     "output_type": "execute_result"
    }
   ],
   "source": [
    "sessions_df = pd.DataFrame.from_dict(table_dict).T\n",
    "sessions_df"
   ]
  },
  {
   "cell_type": "code",
   "execution_count": 13,
   "metadata": {},
   "outputs": [
    {
     "data": {
      "text/plain": [
       "'\\\\begin{tabular}{lrrrrrr}\\n\\\\toprule\\n{} &  n\\\\_sessions &    min &    max &    std &  median &  total\\\\_coverage(m) \\\\\\\\\\n\\\\midrule\\nPatient1 &        36.0 &    5.0 &  126.0 &  25.93 &     9.0 &               25.0 \\\\\\\\\\nPatient2 &         2.0 &  173.0 &  173.0 &   0.00 &   173.0 &                6.0 \\\\\\\\\\nPatient3 &        10.0 &    6.0 &   72.0 &  20.52 &    23.0 &                9.0 \\\\\\\\\\n\\\\bottomrule\\n\\\\end{tabular}\\n'"
      ]
     },
     "execution_count": 13,
     "metadata": {},
     "output_type": "execute_result"
    }
   ],
   "source": [
    "sessions_df.to_latex()"
   ]
  },
  {
   "cell_type": "code",
   "execution_count": 10,
   "metadata": {},
   "outputs": [
    {
     "data": {
      "text/html": [
       "<div>\n",
       "<style scoped>\n",
       "    .dataframe tbody tr th:only-of-type {\n",
       "        vertical-align: middle;\n",
       "    }\n",
       "\n",
       "    .dataframe tbody tr th {\n",
       "        vertical-align: top;\n",
       "    }\n",
       "\n",
       "    .dataframe thead th {\n",
       "        text-align: right;\n",
       "    }\n",
       "</style>\n",
       "<table border=\"1\" class=\"dataframe\">\n",
       "  <thead>\n",
       "    <tr style=\"text-align: right;\">\n",
       "      <th></th>\n",
       "      <th>Patient1</th>\n",
       "      <th>Patient2</th>\n",
       "      <th>Patient3</th>\n",
       "    </tr>\n",
       "  </thead>\n",
       "  <tbody>\n",
       "    <tr>\n",
       "      <th>MADRS</th>\n",
       "      <td>61.67</td>\n",
       "      <td>48.33</td>\n",
       "      <td>48.33</td>\n",
       "    </tr>\n",
       "    <tr>\n",
       "      <th>Sheehan</th>\n",
       "      <td>80.00</td>\n",
       "      <td>73.33</td>\n",
       "      <td>NaN</td>\n",
       "    </tr>\n",
       "    <tr>\n",
       "      <th>SHAPS</th>\n",
       "      <td>78.57</td>\n",
       "      <td>35.71</td>\n",
       "      <td>57.14</td>\n",
       "    </tr>\n",
       "    <tr>\n",
       "      <th>SOFAS</th>\n",
       "      <td>30.00</td>\n",
       "      <td>40.00</td>\n",
       "      <td>30.00</td>\n",
       "    </tr>\n",
       "    <tr>\n",
       "      <th>HAMD</th>\n",
       "      <td>43.08</td>\n",
       "      <td>36.92</td>\n",
       "      <td>21.54</td>\n",
       "    </tr>\n",
       "    <tr>\n",
       "      <th>BDI</th>\n",
       "      <td>65.08</td>\n",
       "      <td>65.08</td>\n",
       "      <td>49.21</td>\n",
       "    </tr>\n",
       "    <tr>\n",
       "      <th>BARS</th>\n",
       "      <td>0.00</td>\n",
       "      <td>0.00</td>\n",
       "      <td>0.00</td>\n",
       "    </tr>\n",
       "  </tbody>\n",
       "</table>\n",
       "</div>"
      ],
      "text/plain": [
       "         Patient1  Patient2  Patient3\n",
       "MADRS       61.67     48.33     48.33\n",
       "Sheehan     80.00     73.33       NaN\n",
       "SHAPS       78.57     35.71     57.14\n",
       "SOFAS       30.00     40.00     30.00\n",
       "HAMD        43.08     36.92     21.54\n",
       "BDI         65.08     65.08     49.21\n",
       "BARS         0.00      0.00      0.00"
      ]
     },
     "execution_count": 10,
     "metadata": {},
     "output_type": "execute_result"
    }
   ],
   "source": [
    "baseline_values = pd.DataFrame.from_dict(baseline_dict)[::-1]\n",
    "baseline_values\n"
   ]
  },
  {
   "cell_type": "code",
   "execution_count": null,
   "metadata": {},
   "outputs": [],
   "source": []
  }
 ],
 "metadata": {
  "kernelspec": {
   "display_name": "Python 3 (ipykernel)",
   "language": "python",
   "name": "python3"
  },
  "language_info": {
   "codemirror_mode": {
    "name": "ipython",
    "version": 3
   },
   "file_extension": ".py",
   "mimetype": "text/x-python",
   "name": "python",
   "nbconvert_exporter": "python",
   "pygments_lexer": "ipython3",
   "version": "3.7.3"
  }
 },
 "nbformat": 4,
 "nbformat_minor": 1
}